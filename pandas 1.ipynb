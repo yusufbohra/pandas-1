{
 "cells": [
  {
   "cell_type": "code",
   "execution_count": 1,
   "id": "e770e937-0424-454c-82cf-2306d8b17871",
   "metadata": {},
   "outputs": [
    {
     "name": "stdout",
     "output_type": "stream",
     "text": [
      "0     4\n",
      "1     8\n",
      "2    15\n",
      "3    16\n",
      "4    23\n",
      "5    42\n",
      "dtype: int64\n"
     ]
    }
   ],
   "source": [
    "#que 1\n",
    "import pandas as pd\n",
    "\n",
    "data = [4, 8, 15, 16, 23, 42]\n",
    "series = pd.Series(data)\n",
    "print(series)\n"
   ]
  },
  {
   "cell_type": "code",
   "execution_count": 2,
   "id": "172781b3-ede5-4467-8684-cc6f5e2c767b",
   "metadata": {},
   "outputs": [
    {
     "name": "stdout",
     "output_type": "stream",
     "text": [
      "0     1\n",
      "1     2\n",
      "2     3\n",
      "3     4\n",
      "4     5\n",
      "5     6\n",
      "6     7\n",
      "7     8\n",
      "8     9\n",
      "9    10\n",
      "dtype: int64\n"
     ]
    }
   ],
   "source": [
    "#que 2\n",
    "import pandas as pd\n",
    "\n",
    "my_list = [1, 2, 3, 4, 5, 6, 7, 8, 9, 10]\n",
    "series = pd.Series(my_list)\n",
    "print(series)\n"
   ]
  },
  {
   "cell_type": "code",
   "execution_count": 3,
   "id": "bed8e67a-bfba-4dc1-814b-c88b48056819",
   "metadata": {},
   "outputs": [],
   "source": [
    "#que 3\n",
    "import pandas as pd\n",
    "dataframe = {'name':['alice','bob','clarie'],\n",
    "            'age':[25,30,27],\n",
    "            'gender':['female','male','female']}\n",
    "df = pd.DataFrame(dataframe)"
   ]
  },
  {
   "cell_type": "code",
   "execution_count": 4,
   "id": "29029845-74ae-4bbb-8587-1385dc708062",
   "metadata": {},
   "outputs": [
    {
     "name": "stdout",
     "output_type": "stream",
     "text": [
      "     name  age  gender\n",
      "0   alice   25  female\n",
      "1     bob   30    male\n",
      "2  clarie   27  female\n"
     ]
    }
   ],
   "source": [
    "print(df)"
   ]
  },
  {
   "cell_type": "code",
   "execution_count": 5,
   "id": "94b2fc73-5b66-41cc-82ec-f15b661aeea5",
   "metadata": {},
   "outputs": [
    {
     "name": "stdout",
     "output_type": "stream",
     "text": [
      "0     Apple\n",
      "1    Banana\n",
      "2    Orange\n",
      "3     Mango\n",
      "dtype: object\n"
     ]
    }
   ],
   "source": [
    "#que 4\n",
    "\"\"\"In pandas, a DataFrame is a two-dimensional labeled data structure that can store data of different types (numeric, string, boolean, etc.) in columns. It is similar to a table or a spreadsheet, where each column represents a variable, and each row represents an observation.\n",
    "\n",
    "A DataFrame can be thought of as a collection of Pandas Series, where each column of the DataFrame is a Series object. A Series, on the other hand, is a one-dimensional labeled array that can store data of a single data type.\"\"\"\n",
    "\n",
    "\n",
    "#example\n",
    "import pandas as pd\n",
    "\n",
    "# Creating a Series\n",
    "fruits = pd.Series(['Apple', 'Banana', 'Orange', 'Mango'])\n",
    "print(fruits)\n"
   ]
  },
  {
   "cell_type": "code",
   "execution_count": 6,
   "id": "477fd4a2-8afc-4108-945c-5aa8192aeb8d",
   "metadata": {},
   "outputs": [
    {
     "name": "stdout",
     "output_type": "stream",
     "text": [
      "             Age       Salary\n",
      "count   4.000000      4.00000\n",
      "mean   29.500000  54250.00000\n",
      "std     4.203173   4349.32945\n",
      "min    25.000000  50000.00000\n",
      "25%    27.250000  51500.00000\n",
      "50%    29.000000  53500.00000\n",
      "75%    31.250000  56250.00000\n",
      "max    35.000000  60000.00000\n"
     ]
    }
   ],
   "source": [
    "#que 5\n",
    "#Pandas provides a wide range of functions to manipulate data in a DataFrame. Here are some common functions:\n",
    "\"\"\"head and tail function\n",
    "loc function\n",
    "merge function\n",
    "describe function\n",
    "info\n",
    "column and index\n",
    "shape\n",
    "group by \n",
    "sort value\"\"\"\n",
    "\n",
    "#example\n",
    "import pandas as pd\n",
    "\n",
    "data = {'Name': ['John', 'Jane', 'Mike', 'Emma'],\n",
    "        'Age': [25, 30, 35, 28],\n",
    "        'Salary': [50000, 60000, 55000, 52000]}\n",
    "df = pd.DataFrame(data)\n",
    "\n",
    "# Generate descriptive statistics\n",
    "description = df.describe()\n",
    "print(description)\n"
   ]
  },
  {
   "cell_type": "code",
   "execution_count": 7,
   "id": "7e4f0c0f-cf1b-442a-9446-40242f1370ad",
   "metadata": {},
   "outputs": [
    {
     "data": {
      "text/plain": [
       "'Among the options provided (Series, DataFrame, Panel), both Series and DataFrame are mutable in nature.\\n\\nIn Pandas, a mutable object is one that can be modified after creation. While a Series and a DataFrame can have their elements, columns, or rows modified, a Panel is an immutable data structure.'"
      ]
     },
     "execution_count": 7,
     "metadata": {},
     "output_type": "execute_result"
    }
   ],
   "source": [
    "#que 6\n",
    "\"\"\"Among the options provided (Series, DataFrame, Panel), both Series and DataFrame are mutable in nature.\n",
    "\n",
    "In Pandas, a mutable object is one that can be modified after creation. While a Series and a DataFrame can have their elements, columns, or rows modified, a Panel is an immutable data structure.\"\"\""
   ]
  },
  {
   "cell_type": "code",
   "execution_count": null,
   "id": "12c42d7d-ee74-4436-a021-b5d7b13e628d",
   "metadata": {},
   "outputs": [],
   "source": []
  }
 ],
 "metadata": {
  "kernelspec": {
   "display_name": "Python 3 (ipykernel)",
   "language": "python",
   "name": "python3"
  },
  "language_info": {
   "codemirror_mode": {
    "name": "ipython",
    "version": 3
   },
   "file_extension": ".py",
   "mimetype": "text/x-python",
   "name": "python",
   "nbconvert_exporter": "python",
   "pygments_lexer": "ipython3",
   "version": "3.10.8"
  }
 },
 "nbformat": 4,
 "nbformat_minor": 5
}
